{
 "cells": [
  {
   "cell_type": "markdown",
   "metadata": {
    "collapsed": false,
    "editable": true,
    "jupyter": {
     "outputs_hidden": false
    },
    "slideshow": {
     "slide_type": "slide"
    },
    "tags": []
   },
   "source": [
    "## Programmation concurrente ?\n",
    "\n",
    "Au lieu d'exécuter les tâches les unes à la suite des autres, on les exécute les unes à côté des autres, voire les unes en même temps que les autres (programmation parallèle).\n",
    "\n",
    "On distingue deux types de tâches :\n",
    "* Les tâches *IO-bound*, qui dépendent principalement des entrées-sorties, pendant lesquelles le CPU passe le plus clair de son temps à attendre ;\n",
    "* Les tâches *CPU-bound*, qui dépendent surtout du CPU.\n",
    "\n",
    "La programmation concurrente permet de gagner en rapidité d'exécution :\n",
    "* Pour les tâches *IO-bound*, un unique cœur peut exécuter les différentes tâches en profitant des temps d'attente ;\n",
    "* Pour les tâches *CPU-bound*, on pourra répartir les différentes tâches sur différents cœurs."
   ]
  },
  {
   "cell_type": "markdown",
   "metadata": {
    "collapsed": false,
    "editable": true,
    "jupyter": {
     "outputs_hidden": false
    },
    "slideshow": {
     "slide_type": "slide"
    },
    "tags": []
   },
   "source": [
    "## Quels outils (de la librairie standard) en Python ?\n",
    "* `threading`\n",
    "* `multiprocessing`\n",
    "* `asyncio`\n",
    "\n",
    "À noter : la bibliothèque `concurrent.futures` offre une interface plus simple à `threading` et `multiprocessing`"
   ]
  },
  {
   "cell_type": "markdown",
   "metadata": {
    "collapsed": false,
    "editable": true,
    "jupyter": {
     "outputs_hidden": false
    },
    "slideshow": {
     "slide_type": "slide"
    },
    "tags": []
   },
   "source": [
    "## La bibliothèque `threading`\n",
    "Les différentes tâches sont réparties entre plusieurs *threads* qui se partagent la même mémoire virtuelle"
   ]
  },
  {
   "cell_type": "code",
   "execution_count": 1,
   "metadata": {
    "editable": true,
    "slideshow": {
     "slide_type": "fragment"
    },
    "tags": []
   },
   "outputs": [],
   "source": [
    "import time\n",
    "from typing import Callable, Any\n",
    "from concurrent.futures import ThreadPoolExecutor\n",
    "\n",
    "\n",
    "def doing_several_things_sequentially(n: int, action: Callable) -> []:\n",
    "    res = list(map(action, range(n)))\n",
    "    return res\n",
    "\n",
    "def doing_several_things_with_threads(n: int, action: Callable) -> []:\n",
    "    with ThreadPoolExecutor(max_workers=5) as executor:\n",
    "        res = executor.map(action, range(n))\n",
    "    return res"
   ]
  },
  {
   "cell_type": "markdown",
   "metadata": {
    "collapsed": false,
    "editable": true,
    "jupyter": {
     "outputs_hidden": false
    },
    "slideshow": {
     "slide_type": "subslide"
    },
    "tags": []
   },
   "source": [
    "### Très efficace sur des tâches *IO-bound* ..."
   ]
  },
  {
   "cell_type": "markdown",
   "metadata": {
    "editable": true,
    "slideshow": {
     "slide_type": ""
    },
    "tags": []
   },
   "source": [
    "Définissons une simple tâche *IO-bound* : "
   ]
  },
  {
   "cell_type": "code",
   "execution_count": 2,
   "metadata": {
    "ExecuteTime": {
     "end_time": "2023-10-18T16:29:56.579104800Z",
     "start_time": "2023-10-18T16:29:56.434385600Z"
    },
    "collapsed": false,
    "editable": true,
    "jupyter": {
     "outputs_hidden": false
    },
    "slideshow": {
     "slide_type": ""
    },
    "tags": []
   },
   "outputs": [],
   "source": [
    "def doing_something_with_io(a: Any) -> Any:\n",
    "    time.sleep(1) # Could be an I/O of some kind, like a call to a REST API...\n",
    "    return a"
   ]
  },
  {
   "cell_type": "markdown",
   "metadata": {
    "collapsed": false,
    "editable": true,
    "jupyter": {
     "outputs_hidden": false
    },
    "slideshow": {
     "slide_type": "subslide"
    },
    "tags": []
   },
   "source": [
    "#### Performances"
   ]
  },
  {
   "cell_type": "markdown",
   "metadata": {
    "collapsed": false,
    "editable": true,
    "jupyter": {
     "outputs_hidden": false
    },
    "slideshow": {
     "slide_type": "fragment"
    },
    "tags": []
   },
   "source": [
    "Avec des threads :"
   ]
  },
  {
   "cell_type": "code",
   "execution_count": 3,
   "metadata": {
    "ExecuteTime": {
     "end_time": "2023-10-18T16:29:57.453620200Z",
     "start_time": "2023-10-18T16:29:56.444440500Z"
    },
    "collapsed": false,
    "editable": true,
    "jupyter": {
     "outputs_hidden": false
    },
    "slideshow": {
     "slide_type": ""
    },
    "tags": []
   },
   "outputs": [
    {
     "name": "stdout",
     "output_type": "stream",
     "text": [
      "CPU times: user 0 ns, sys: 0 ns, total: 0 ns\n",
      "Wall time: 1 s\n"
     ]
    }
   ],
   "source": [
    "%time doing_several_things_with_threads(5, doing_something_with_io);"
   ]
  },
  {
   "cell_type": "markdown",
   "metadata": {
    "collapsed": false,
    "editable": true,
    "jupyter": {
     "outputs_hidden": false
    },
    "slideshow": {
     "slide_type": "fragment"
    },
    "tags": []
   },
   "source": [
    "Sans threads :"
   ]
  },
  {
   "cell_type": "code",
   "execution_count": 4,
   "metadata": {
    "ExecuteTime": {
     "end_time": "2023-10-18T16:30:02.457812300Z",
     "start_time": "2023-10-18T16:29:57.450526400Z"
    },
    "collapsed": false,
    "editable": true,
    "jupyter": {
     "outputs_hidden": false
    },
    "slideshow": {
     "slide_type": ""
    },
    "tags": []
   },
   "outputs": [
    {
     "name": "stdout",
     "output_type": "stream",
     "text": [
      "CPU times: user 0 ns, sys: 0 ns, total: 0 ns\n",
      "Wall time: 5 s\n"
     ]
    }
   ],
   "source": [
    "%time doing_several_things_sequentially(5, doing_something_with_io);"
   ]
  },
  {
   "cell_type": "markdown",
   "metadata": {
    "editable": true,
    "slideshow": {
     "slide_type": "fragment"
    },
    "tags": []
   },
   "source": [
    "Les différents *threads* se répartissent le travail, le gain est important"
   ]
  },
  {
   "cell_type": "markdown",
   "metadata": {
    "collapsed": false,
    "editable": true,
    "jupyter": {
     "outputs_hidden": false
    },
    "slideshow": {
     "slide_type": "subslide"
    },
    "tags": []
   },
   "source": [
    "### Beaucoup moins sur des tâches *CPU-bound* !"
   ]
  },
  {
   "cell_type": "markdown",
   "metadata": {
    "editable": true,
    "slideshow": {
     "slide_type": ""
    },
    "tags": []
   },
   "source": [
    "Définissons une tâche *CPU-bound*"
   ]
  },
  {
   "cell_type": "code",
   "execution_count": 5,
   "metadata": {
    "ExecuteTime": {
     "end_time": "2023-10-18T16:30:02.465222600Z",
     "start_time": "2023-10-18T16:30:02.459009300Z"
    },
    "collapsed": false,
    "editable": true,
    "jupyter": {
     "outputs_hidden": false
    },
    "slideshow": {
     "slide_type": ""
    },
    "tags": []
   },
   "outputs": [],
   "source": [
    "def doing_something_with_the_cpu(a):\n",
    "    [i**2 for i in range(4_000_000)]\n",
    "    return a"
   ]
  },
  {
   "cell_type": "markdown",
   "metadata": {
    "editable": true,
    "slideshow": {
     "slide_type": "subslide"
    },
    "tags": []
   },
   "source": [
    "#### Performance"
   ]
  },
  {
   "cell_type": "markdown",
   "metadata": {
    "collapsed": false,
    "editable": true,
    "jupyter": {
     "outputs_hidden": false
    },
    "slideshow": {
     "slide_type": "fragment"
    },
    "tags": []
   },
   "source": [
    "Avec des threads"
   ]
  },
  {
   "cell_type": "code",
   "execution_count": 6,
   "metadata": {
    "ExecuteTime": {
     "end_time": "2023-10-18T16:30:07.477931300Z",
     "start_time": "2023-10-18T16:30:02.465222600Z"
    },
    "collapsed": false,
    "editable": true,
    "jupyter": {
     "outputs_hidden": false
    },
    "slideshow": {
     "slide_type": ""
    },
    "tags": []
   },
   "outputs": [
    {
     "name": "stdout",
     "output_type": "stream",
     "text": [
      "CPU times: user 5.05 s, sys: 922 ms, total: 5.97 s\n",
      "Wall time: 6.01 s\n"
     ]
    }
   ],
   "source": [
    "%time doing_several_things_with_threads(5, doing_something_with_the_cpu);"
   ]
  },
  {
   "cell_type": "markdown",
   "metadata": {
    "collapsed": false,
    "editable": true,
    "jupyter": {
     "outputs_hidden": false
    },
    "slideshow": {
     "slide_type": "fragment"
    },
    "tags": []
   },
   "source": [
    "Sans threads"
   ]
  },
  {
   "cell_type": "code",
   "execution_count": 7,
   "metadata": {
    "ExecuteTime": {
     "end_time": "2023-10-18T16:30:12.606702100Z",
     "start_time": "2023-10-18T16:30:07.571023900Z"
    },
    "collapsed": false,
    "editable": true,
    "jupyter": {
     "outputs_hidden": false
    },
    "slideshow": {
     "slide_type": ""
    },
    "tags": []
   },
   "outputs": [
    {
     "name": "stdout",
     "output_type": "stream",
     "text": [
      "CPU times: user 4.05 s, sys: 953 ms, total: 5 s\n",
      "Wall time: 5 s\n"
     ]
    }
   ],
   "source": [
    "%time doing_several_things_sequentially(5, doing_something_with_the_cpu);"
   ]
  },
  {
   "cell_type": "markdown",
   "metadata": {
    "editable": true,
    "slideshow": {
     "slide_type": "fragment"
    },
    "tags": []
   },
   "source": [
    "Surprise : la répartition du travail entre *threads* n'est plus du tout efficace !"
   ]
  },
  {
   "cell_type": "markdown",
   "metadata": {
    "collapsed": false,
    "editable": true,
    "jupyter": {
     "outputs_hidden": false
    },
    "slideshow": {
     "slide_type": "subslide"
    },
    "tags": []
   },
   "source": [
    "### Tout ça à cause du GIL !\n",
    "Le fait que les *threads* partagent la mémoire peut créér des problèmes. Pour les éviter CPython implémente une solution simple : le GIL.\n",
    "\n",
    "Le *Global Interpreter Lock* (*GIL*) empêche deux *threads* de s'exécuter en même temps, même en présence de plusieurs cœurs.\n",
    "\n",
    "Si les threads dépendent essentiellement du *CPU*, ils ne pourront pas s'exécuter en parallèle... et le gain sera inexistant !\n",
    "\n",
    "Pire encore, le changement de contexte pourra même faire perdre un peu de temps !"
   ]
  },
  {
   "cell_type": "markdown",
   "metadata": {
    "collapsed": false,
    "editable": true,
    "jupyter": {
     "outputs_hidden": false
    },
    "slideshow": {
     "slide_type": "slide"
    },
    "tags": []
   },
   "source": [
    "## L'artillerie lourde pour ~résoudre~ contourner le problème : `multiprocessing`\n",
    "On va créer plusieurs processus qui auront chacun leur propre instance de l'interpréteur, leur propre copie des données...\n",
    "\n",
    "Plus de problème de GIL !"
   ]
  },
  {
   "cell_type": "code",
   "execution_count": 8,
   "metadata": {
    "ExecuteTime": {
     "end_time": "2023-10-18T16:30:12.619181300Z",
     "start_time": "2023-10-18T16:30:12.609706700Z"
    },
    "collapsed": false,
    "editable": true,
    "jupyter": {
     "outputs_hidden": false
    },
    "slideshow": {
     "slide_type": "fragment"
    },
    "tags": []
   },
   "outputs": [],
   "source": [
    "from concurrent.futures import ProcessPoolExecutor\n",
    "\n",
    "\n",
    "def doing_several_things_with_multiprocess(n: int, action: Callable) -> []:\n",
    "    with ProcessPoolExecutor(max_workers=5) as executor:\n",
    "        res = executor.map(action, range(n))\n",
    "    return res"
   ]
  },
  {
   "cell_type": "markdown",
   "metadata": {
    "editable": true,
    "slideshow": {
     "slide_type": "subslide"
    },
    "tags": []
   },
   "source": [
    "### Pas de soucis avec les tâches *IO-bound*"
   ]
  },
  {
   "cell_type": "markdown",
   "metadata": {
    "editable": true,
    "slideshow": {
     "slide_type": "fragment"
    },
    "tags": []
   },
   "source": [
    "#### Performances"
   ]
  },
  {
   "cell_type": "markdown",
   "metadata": {
    "collapsed": false,
    "editable": true,
    "jupyter": {
     "outputs_hidden": false
    },
    "slideshow": {
     "slide_type": ""
    },
    "tags": []
   },
   "source": [
    "Avec multiprocess"
   ]
  },
  {
   "cell_type": "code",
   "execution_count": 9,
   "metadata": {
    "ExecuteTime": {
     "end_time": "2023-10-18T16:30:13.746576300Z",
     "start_time": "2023-10-18T16:30:12.622271600Z"
    },
    "collapsed": false,
    "editable": true,
    "jupyter": {
     "outputs_hidden": false
    },
    "slideshow": {
     "slide_type": ""
    },
    "tags": []
   },
   "outputs": [
    {
     "name": "stdout",
     "output_type": "stream",
     "text": [
      "CPU times: user 15.6 ms, sys: 31.2 ms, total: 46.9 ms\n",
      "Wall time: 1.11 s\n"
     ]
    }
   ],
   "source": [
    "%time doing_several_things_with_multiprocess(5, doing_something_with_io);"
   ]
  },
  {
   "cell_type": "markdown",
   "metadata": {
    "collapsed": false,
    "editable": true,
    "jupyter": {
     "outputs_hidden": false
    },
    "slideshow": {
     "slide_type": "fragment"
    },
    "tags": []
   },
   "source": [
    "Sans multiprocess"
   ]
  },
  {
   "cell_type": "code",
   "execution_count": 10,
   "metadata": {
    "ExecuteTime": {
     "end_time": "2023-10-18T16:30:18.757873Z",
     "start_time": "2023-10-18T16:30:13.746576300Z"
    },
    "collapsed": false,
    "editable": true,
    "jupyter": {
     "outputs_hidden": false
    },
    "slideshow": {
     "slide_type": ""
    },
    "tags": []
   },
   "outputs": [
    {
     "name": "stdout",
     "output_type": "stream",
     "text": [
      "CPU times: user 0 ns, sys: 0 ns, total: 0 ns\n",
      "Wall time: 5 s\n"
     ]
    }
   ],
   "source": [
    "%time doing_several_things_sequentially(5, doing_something_with_io);"
   ]
  },
  {
   "cell_type": "markdown",
   "metadata": {
    "editable": true,
    "slideshow": {
     "slide_type": "fragment"
    },
    "tags": []
   },
   "source": [
    "Le gain est cependant moins important qu'avec `threading`"
   ]
  },
  {
   "cell_type": "markdown",
   "metadata": {
    "collapsed": false,
    "editable": true,
    "jupyter": {
     "outputs_hidden": false
    },
    "slideshow": {
     "slide_type": "subslide"
    },
    "tags": []
   },
   "source": [
    "### Et cette fois ça fonctionne aussi pour des tâches *CPU-bound* !"
   ]
  },
  {
   "cell_type": "markdown",
   "metadata": {
    "editable": true,
    "slideshow": {
     "slide_type": "fragment"
    },
    "tags": []
   },
   "source": [
    "#### Performances"
   ]
  },
  {
   "cell_type": "markdown",
   "metadata": {
    "collapsed": false,
    "editable": true,
    "jupyter": {
     "outputs_hidden": false
    },
    "slideshow": {
     "slide_type": ""
    },
    "tags": []
   },
   "source": [
    "Avec multiprocess"
   ]
  },
  {
   "cell_type": "code",
   "execution_count": 11,
   "metadata": {
    "ExecuteTime": {
     "end_time": "2023-10-18T16:30:20.043349600Z",
     "start_time": "2023-10-18T16:30:18.758424800Z"
    },
    "collapsed": false,
    "editable": true,
    "jupyter": {
     "outputs_hidden": false
    },
    "slideshow": {
     "slide_type": ""
    },
    "tags": []
   },
   "outputs": [
    {
     "name": "stdout",
     "output_type": "stream",
     "text": [
      "CPU times: user 31.2 ms, sys: 93.8 ms, total: 125 ms\n",
      "Wall time: 1.19 s\n"
     ]
    }
   ],
   "source": [
    "%time doing_several_things_with_multiprocess(5, doing_something_with_the_cpu);"
   ]
  },
  {
   "cell_type": "markdown",
   "metadata": {
    "collapsed": false,
    "editable": true,
    "jupyter": {
     "outputs_hidden": false
    },
    "slideshow": {
     "slide_type": "fragment"
    },
    "tags": []
   },
   "source": [
    "Sans multiprocess"
   ]
  },
  {
   "cell_type": "code",
   "execution_count": 12,
   "metadata": {
    "ExecuteTime": {
     "end_time": "2023-10-18T16:30:25.128505900Z",
     "start_time": "2023-10-18T16:30:20.112659400Z"
    },
    "collapsed": false,
    "editable": true,
    "jupyter": {
     "outputs_hidden": false
    },
    "slideshow": {
     "slide_type": ""
    },
    "tags": []
   },
   "outputs": [
    {
     "name": "stdout",
     "output_type": "stream",
     "text": [
      "CPU times: user 4.17 s, sys: 844 ms, total: 5.02 s\n",
      "Wall time: 5 s\n"
     ]
    }
   ],
   "source": [
    "%time doing_several_things_sequentially(5, doing_something_with_the_cpu);"
   ]
  },
  {
   "cell_type": "markdown",
   "metadata": {
    "collapsed": false,
    "editable": true,
    "jupyter": {
     "outputs_hidden": false
    },
    "slideshow": {
     "slide_type": "fragment"
    },
    "tags": []
   },
   "source": [
    "Cette fois-ci, vu que chaque process dispose de son propre interpréteur, le GIL ne nous bloque plus. Les tâches s'exécutent en parrallèle sur plusieurs cœurs."
   ]
  },
  {
   "cell_type": "markdown",
   "metadata": {
    "editable": true,
    "slideshow": {
     "slide_type": "subslide"
    },
    "tags": []
   },
   "source": [
    "### Inconvénients"
   ]
  },
  {
   "cell_type": "markdown",
   "metadata": {
    "editable": true,
    "slideshow": {
     "slide_type": "fragment"
    },
    "tags": []
   },
   "source": [
    "L'utilisation de plusieurs processus a un impact sur la consommation de mémoire. En plus de cela, les opérations de création / synchronisation des différents processus sont coûteuses. Résultat, `multiprocess` est moins efficace que `threading` sur les tâches *IO-bound*"
   ]
  },
  {
   "cell_type": "markdown",
   "metadata": {
    "collapsed": false,
    "editable": true,
    "jupyter": {
     "outputs_hidden": false
    },
    "slideshow": {
     "slide_type": "fragment"
    },
    "tags": []
   },
   "source": [
    "Avec multiprocess"
   ]
  },
  {
   "cell_type": "code",
   "execution_count": 13,
   "metadata": {
    "ExecuteTime": {
     "end_time": "2023-10-18T16:30:34.038578800Z",
     "start_time": "2023-10-18T16:30:25.149686Z"
    },
    "collapsed": false,
    "editable": true,
    "jupyter": {
     "outputs_hidden": false
    },
    "slideshow": {
     "slide_type": ""
    },
    "tags": []
   },
   "outputs": [
    {
     "name": "stdout",
     "output_type": "stream",
     "text": [
      "1.11 s ± 6.03 ms per loop (mean ± std. dev. of 7 runs, 1 loop each)\n"
     ]
    }
   ],
   "source": [
    "%timeit doing_several_things_with_multiprocess(5, doing_something_with_io);"
   ]
  },
  {
   "cell_type": "markdown",
   "metadata": {
    "collapsed": false,
    "editable": true,
    "jupyter": {
     "outputs_hidden": false
    },
    "slideshow": {
     "slide_type": "fragment"
    },
    "tags": []
   },
   "source": [
    "Avec des threads"
   ]
  },
  {
   "cell_type": "code",
   "execution_count": 14,
   "metadata": {
    "ExecuteTime": {
     "end_time": "2023-10-18T16:30:42.068134100Z",
     "start_time": "2023-10-18T16:30:34.045268500Z"
    },
    "collapsed": false,
    "editable": true,
    "jupyter": {
     "outputs_hidden": false
    },
    "slideshow": {
     "slide_type": ""
    },
    "tags": []
   },
   "outputs": [
    {
     "name": "stdout",
     "output_type": "stream",
     "text": [
      "1 s ± 487 µs per loop (mean ± std. dev. of 7 runs, 1 loop each)\n"
     ]
    }
   ],
   "source": [
    "%timeit doing_several_things_with_threads(5, doing_something_with_io);"
   ]
  },
  {
   "cell_type": "markdown",
   "metadata": {
    "editable": true,
    "slideshow": {
     "slide_type": "slide"
    },
    "tags": []
   },
   "source": [
    "## Une autre approche à la mode : `asyncio`"
   ]
  },
  {
   "cell_type": "markdown",
   "metadata": {
    "editable": true,
    "slideshow": {
     "slide_type": ""
    },
    "tags": []
   },
   "source": [
    "Plus de *threads* ou de processus, c'est l'interpréteur qui gère tout !"
   ]
  },
  {
   "cell_type": "code",
   "execution_count": 15,
   "metadata": {
    "editable": true,
    "slideshow": {
     "slide_type": ""
    },
    "tags": []
   },
   "outputs": [],
   "source": [
    "import asyncio\n",
    "\n",
    "\n",
    "async def doing_several_things_with_asyncio(n: int, action: Callable) -> []:\n",
    "    await asyncio.gather(*[action(i) for i in range(n)])"
   ]
  },
  {
   "cell_type": "markdown",
   "metadata": {
    "editable": true,
    "slideshow": {
     "slide_type": "subslide"
    },
    "tags": []
   },
   "source": [
    "### Efficace pour des tâches *IO-bound*"
   ]
  },
  {
   "cell_type": "code",
   "execution_count": 16,
   "metadata": {
    "editable": true,
    "slideshow": {
     "slide_type": ""
    },
    "tags": []
   },
   "outputs": [],
   "source": [
    "async def doing_something_with_io_awaitable(a: Any) -> Any:\n",
    "    await asyncio.sleep(1)\n",
    "    return a\n",
    "\n",
    "async def doing_something_with_cpu_awaitable(a: Any) -> Any:\n",
    "    [i**2 for i in range(4_000_000)]\n",
    "    return a"
   ]
  },
  {
   "cell_type": "markdown",
   "metadata": {
    "editable": true,
    "slideshow": {
     "slide_type": "fragment"
    },
    "tags": []
   },
   "source": [
    "#### Performances"
   ]
  },
  {
   "cell_type": "code",
   "execution_count": 17,
   "metadata": {
    "editable": true,
    "slideshow": {
     "slide_type": ""
    },
    "tags": []
   },
   "outputs": [
    {
     "name": "stdout",
     "output_type": "stream",
     "text": [
      "elapsed time with asyncio: 1.0010147094726562\n"
     ]
    }
   ],
   "source": [
    "start_time = time.time()\n",
    "await doing_several_things_with_asyncio(5, doing_something_with_io_awaitable) # En dehors de Jupyter, il faudrait écrire asyncio.run(doing_several_things_with_asyncio(5, doing_something_with_io_awaitable))\n",
    "end_time = time.time()\n",
    "\n",
    "print(f'elapsed time with asyncio: {end_time - start_time}')"
   ]
  },
  {
   "cell_type": "code",
   "execution_count": 18,
   "metadata": {
    "editable": true,
    "slideshow": {
     "slide_type": ""
    },
    "tags": []
   },
   "outputs": [
    {
     "name": "stdout",
     "output_type": "stream",
     "text": [
      "elapsed time sequentially: 1.0033788681030273\n"
     ]
    }
   ],
   "source": [
    "start_time = time.time()\n",
    "doing_several_things_with_threads(5, doing_something_with_io)\n",
    "end_time = time.time()\n",
    "\n",
    "print(f'elapsed time sequentially: {end_time - start_time}')"
   ]
  },
  {
   "cell_type": "markdown",
   "metadata": {
    "editable": true,
    "slideshow": {
     "slide_type": "subslide"
    },
    "tags": []
   },
   "source": [
    "### Mais pas pour des tâches *CPU-bound* (mais on s'en doutait)"
   ]
  },
  {
   "cell_type": "code",
   "execution_count": 19,
   "metadata": {
    "editable": true,
    "slideshow": {
     "slide_type": ""
    },
    "tags": []
   },
   "outputs": [
    {
     "name": "stdout",
     "output_type": "stream",
     "text": [
      "elapsed time with asyncio: 5.1629862785339355\n"
     ]
    }
   ],
   "source": [
    "start_time = time.time()\n",
    "await doing_several_things_with_asyncio(5, doing_something_with_cpu_awaitable)\n",
    "end_time = time.time()\n",
    "\n",
    "print(f'elapsed time with asyncio: {end_time - start_time}')"
   ]
  },
  {
   "cell_type": "markdown",
   "metadata": {
    "editable": true,
    "slideshow": {
     "slide_type": ""
    },
    "tags": []
   },
   "source": [
    "L'interpréteur n'utilise qu'un seul *thread* pour tout exécuter, impossible de faire mieux que du séquentiel !"
   ]
  },
  {
   "cell_type": "markdown",
   "metadata": {
    "editable": true,
    "slideshow": {
     "slide_type": "slide"
    },
    "tags": []
   },
   "source": [
    "## Et dans le futur"
   ]
  },
  {
   "cell_type": "markdown",
   "metadata": {
    "editable": true,
    "slideshow": {
     "slide_type": ""
    },
    "tags": []
   },
   "source": [
    "Et si on supprimait le GIL pour régler tous les problèmes ?\n",
    "\n",
    "C'est prévu : la [PEP 703](https://peps.python.org/pep-0703/) prévoit de rendre le GIL optionnel ! Le *Steering Council* a annoncé [en juillet](https://discuss.python.org/t/a-steering-council-notice-about-pep-703-making-the-global-interpreter-lock-optional-in-cpython/30474/1) son intention d'accepter cette PEP, à priori selon le calendrier suivant :\n",
    "* Un build no-GIL expérimental est prévu pour la version 3.13 ou 3.14 (2024 ou 2025)\n",
    "* Après environ un ou deux ans, le mode no-GIL sera supporté officiellement\n",
    "* Avant de devenir le mode par défaut\n",
    "\n",
    "Mais le travail est conséquent puisque c'est toute la gestion de la mémoire de CPython qu'il faut revoir ! "
   ]
  }
 ],
 "metadata": {
  "kernelspec": {
   "display_name": "Python 3 (ipykernel)",
   "language": "python",
   "name": "python3"
  },
  "language_info": {
   "codemirror_mode": {
    "name": "ipython",
    "version": 3
   },
   "file_extension": ".py",
   "mimetype": "text/x-python",
   "name": "python",
   "nbconvert_exporter": "python",
   "pygments_lexer": "ipython3",
   "version": "3.10.6"
  }
 },
 "nbformat": 4,
 "nbformat_minor": 4
}
